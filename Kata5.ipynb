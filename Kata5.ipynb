{
 "cells": [
  {
   "cell_type": "markdown",
   "metadata": {},
   "source": [
    "EJERCICIO 1"
   ]
  },
  {
   "cell_type": "code",
   "execution_count": 6,
   "metadata": {},
   "outputs": [
    {
     "name": "stdout",
     "output_type": "stream",
     "text": [
      "628949330\n",
      "390577533.93\n"
     ]
    }
   ],
   "source": [
    "Tierra=149597870\n",
    "Jupiter=778547200\n",
    "\n",
    "Distancia=Jupiter-Tierra\n",
    "print(Distancia)\n",
    "\n",
    "Distancia=round(Distancia*0.621)\n",
    "print(Distancia)"
   ]
  },
  {
   "cell_type": "markdown",
   "metadata": {},
   "source": [
    "EJERCICIO 2"
   ]
  },
  {
   "cell_type": "code",
   "execution_count": 2,
   "metadata": {},
   "outputs": [
    {
     "name": "stdout",
     "output_type": "stream",
     "text": [
      "-50300000\n",
      "31236300.0\n"
     ]
    }
   ],
   "source": [
    "Planeta1=input(\"Introduzca la distancia del primer planeta al sol: \")\n",
    "Planeta2=input(\"Introduzca la distancia del segundo planeta al sol: \")\n",
    "\n",
    "Planeta1=int(Planeta1)\n",
    "Planeta2=int(Planeta2)\n",
    "\n",
    "Distancia=Planeta2-Planeta1\n",
    "print(Distancia)\n",
    "\n",
    "Distancia=Distancia*0.621\n",
    "print(abs(Distancia))"
   ]
  }
 ],
 "metadata": {
  "interpreter": {
   "hash": "0cfa34a1942f3e9b488a5c5cbecab847df5890b1fa6e31caee2eb853b54fec85"
  },
  "kernelspec": {
   "display_name": "Python 3.10.2 64-bit",
   "language": "python",
   "name": "python3"
  },
  "language_info": {
   "codemirror_mode": {
    "name": "ipython",
    "version": 3
   },
   "file_extension": ".py",
   "mimetype": "text/x-python",
   "name": "python",
   "nbconvert_exporter": "python",
   "pygments_lexer": "ipython3",
   "version": "3.10.2"
  },
  "orig_nbformat": 4
 },
 "nbformat": 4,
 "nbformat_minor": 2
}
