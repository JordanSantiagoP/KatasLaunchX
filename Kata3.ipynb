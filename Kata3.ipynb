{
 "cells": [
  {
   "cell_type": "code",
   "execution_count": 2,
   "metadata": {},
   "outputs": [
    {
     "name": "stdout",
     "output_type": "stream",
     "text": [
      "Si necesita advertencia\n",
      "Alerta, se acerca un asteoride\n"
     ]
    }
   ],
   "source": [
    "asteroide=49   #velocidad del ateoride a compararme\n",
    "asteroidePeligroso=25 #Velocidad que requiere una advertencia\n",
    "\n",
    "if asteroide > asteroidePeligroso:     #Hacemos una prueba si necesita una advertencia por el asteroide a comparar\n",
    "    print(\"Si necesita advertencia\")\n",
    "else:\n",
    "    print(\"No necesita advertencia\")\n",
    "\n",
    "    #Ahora si la logica esta bien, se dara advertencia o no\n",
    "if asteroide > asteroidePeligroso:\n",
    "    print(\"Alerta, se acerca un asteoride\")\n",
    "else: \n",
    "    print(\"No hay nada de que preocuparse :)\")\n"
   ]
  },
  {
   "cell_type": "code",
   "execution_count": 3,
   "metadata": {},
   "outputs": [
    {
     "name": "stdout",
     "output_type": "stream",
     "text": [
      "No se vera el rayo de luz ya que no cumple con la velocidad minima para verla\n"
     ]
    }
   ],
   "source": [
    "asteroide=19     #este es la velocidad del ateroride a comparar\n",
    "\n",
    "if asteroide>=20:      #se compara primero mayor o igual a 20 porque si cumple con esta especificacion significa que se podra ver el rayo de luz que deja \n",
    "    print(\"Se vera el rayo de luz de un asteroide\")\n",
    "else:\n",
    "    print(\"No se vera el rayo de luz ya que no cumple con la velocidad minima para verla\")"
   ]
  },
  {
   "cell_type": "code",
   "execution_count": 14,
   "metadata": {},
   "outputs": [
    {
     "name": "stdout",
     "output_type": "stream",
     "text": [
      "No hay nada de que preocuparse\n"
     ]
    }
   ],
   "source": [
    "Velocidad=19\n",
    "tamaño=30\n",
    "\n",
    "if Velocidad > 25 and tamaño > 25:\n",
    "    print(\"Alerta, un asteroide peligroso se acerca a la tierra\")\n",
    "elif Velocidad >=20:\n",
    "    print(\"Se verá un rayo de luz\")\n",
    "elif tamaño < 25:\n",
    "    print(\"No hay nada de que preocuparse\")\n",
    "else:\n",
    "    print(\"No hay nada de que preocuparse\")\n",
    "        \n"
   ]
  }
 ],
 "metadata": {
  "interpreter": {
   "hash": "0cfa34a1942f3e9b488a5c5cbecab847df5890b1fa6e31caee2eb853b54fec85"
  },
  "kernelspec": {
   "display_name": "Python 3.10.2 64-bit",
   "language": "python",
   "name": "python3"
  },
  "language_info": {
   "codemirror_mode": {
    "name": "ipython",
    "version": 3
   },
   "file_extension": ".py",
   "mimetype": "text/x-python",
   "name": "python",
   "nbconvert_exporter": "python",
   "pygments_lexer": "ipython3",
   "version": "3.10.2"
  },
  "orig_nbformat": 4
 },
 "nbformat": 4,
 "nbformat_minor": 2
}
