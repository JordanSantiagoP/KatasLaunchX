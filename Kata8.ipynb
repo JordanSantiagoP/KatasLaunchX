{
 "cells": [
  {
   "cell_type": "markdown",
   "metadata": {},
   "source": [
    "EJERCICIO 1"
   ]
  },
  {
   "cell_type": "code",
   "execution_count": 1,
   "metadata": {},
   "outputs": [
    {
     "name": "stdout",
     "output_type": "stream",
     "text": [
      "El planeta  Mars  tiene  42  lunas\n"
     ]
    }
   ],
   "source": [
    "planet={\n",
    "    'name': 'Mars',\n",
    "    'moons': 42 \n",
    "}\n",
    "\n",
    "print(\"El planeta \",planet['name'],\" tiene \", planet['moons'], \" lunas\")"
   ]
  },
  {
   "cell_type": "code",
   "execution_count": 2,
   "metadata": {},
   "outputs": [
    {
     "name": "stdout",
     "output_type": "stream",
     "text": [
      "Mars  su circuferencia polar es de:  6752\n"
     ]
    }
   ],
   "source": [
    "planet={\n",
    "    'name': 'Mars',\n",
    "    'moons': 42 \n",
    "}\n",
    "\n",
    "planet['circunferencia(km)']={\n",
    "    'polar': 6752,\n",
    "    'equatorial': 6792\n",
    "}\n",
    "\n",
    "print(planet['name'],\" su circuferencia polar es de: \",planet['circunferencia(km)']['polar'])"
   ]
  },
  {
   "cell_type": "markdown",
   "metadata": {},
   "source": [
    "EJERCICIO 2"
   ]
  },
  {
   "cell_type": "code",
   "execution_count": 2,
   "metadata": {},
   "outputs": [
    {
     "name": "stdout",
     "output_type": "stream",
     "text": [
      "17.833333333333332\n"
     ]
    }
   ],
   "source": [
    "planet_moons = {\n",
    "    'mercury': 0,\n",
    "    'venus': 0,\n",
    "    'earth': 1,\n",
    "    'mars': 2,\n",
    "    'jupiter': 79,\n",
    "    'saturn': 82,\n",
    "    'uranus': 27,\n",
    "    'neptune': 14,\n",
    "    'pluto': 5,\n",
    "    'haumea': 2,\n",
    "    'makemake': 1,\n",
    "    'eris': 1\n",
    "}\n",
    "\n",
    "moons=0\n",
    "planets=0\n",
    "\n",
    "moons=planet_moons.values()\n",
    "\n",
    "planets=len(planet_moons.keys())\n",
    "\n",
    "total_moons=0\n",
    "\n",
    "for luna in moons:\n",
    "    total_moons=total_moons+luna\n",
    "\n",
    "promedio=total_moons/planets\n",
    "\n",
    "print(promedio)"
   ]
  }
 ],
 "metadata": {
  "interpreter": {
   "hash": "0cfa34a1942f3e9b488a5c5cbecab847df5890b1fa6e31caee2eb853b54fec85"
  },
  "kernelspec": {
   "display_name": "Python 3.10.2 64-bit",
   "language": "python",
   "name": "python3"
  },
  "language_info": {
   "codemirror_mode": {
    "name": "ipython",
    "version": 3
   },
   "file_extension": ".py",
   "mimetype": "text/x-python",
   "name": "python",
   "nbconvert_exporter": "python",
   "pygments_lexer": "ipython3",
   "version": "3.10.2"
  },
  "orig_nbformat": 4
 },
 "nbformat": 4,
 "nbformat_minor": 2
}
