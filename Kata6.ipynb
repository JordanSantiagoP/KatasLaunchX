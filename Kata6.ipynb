{
 "cells": [
  {
   "cell_type": "code",
   "execution_count": 1,
   "metadata": {},
   "outputs": [
    {
     "name": "stdout",
     "output_type": "stream",
     "text": [
      "La cantidad de planetas es:  7\n"
     ]
    }
   ],
   "source": [
    "planets=['Mercurio','Venus','Tierra', 'Marte', 'Jupiter', 'Saturno', 'Neptuno']\n",
    "\n",
    "print(\"La cantidad de planetas es: \", len(planets))"
   ]
  },
  {
   "cell_type": "code",
   "execution_count": 2,
   "metadata": {},
   "outputs": [
    {
     "name": "stdout",
     "output_type": "stream",
     "text": [
      "El ultimo elemento agregado es:  Pluton\n"
     ]
    }
   ],
   "source": [
    "planets=['Mercurio','Venus','Tierra', 'Marte', 'Jupiter', 'Saturno', 'Neptuno']\n",
    "planets.append('Pluton')\n",
    "\n",
    "print(\"El ultimo elemento agregado es: \", planets[-1])"
   ]
  },
  {
   "cell_type": "code",
   "execution_count": 5,
   "metadata": {},
   "outputs": [
    {
     "name": "stdout",
     "output_type": "stream",
     "text": [
      "El planeta que ingreso tiene el indice:  3\n"
     ]
    }
   ],
   "source": [
    "planets = ['Mercury', 'Venus', 'Earth', 'Mars', 'Jupiter', 'Saturn', 'Neptune']\n",
    "\n",
    "planeta=input(\"Ingresa un nombre de un planeta (Ejemplo: Mars, mayuscula al principio del nombre): \")\n",
    "\n",
    "Indice=planets.index(planeta)\n",
    "\n",
    "print(\"El planeta que ingreso tiene el indice: \", Indice+1)\n",
    "\n"
   ]
  },
  {
   "cell_type": "code",
   "execution_count": 9,
   "metadata": {},
   "outputs": [
    {
     "name": "stdout",
     "output_type": "stream",
     "text": [
      "El planeta que ingreso tiene el indice:  3\n",
      "Los planetas cercanos a: Earth\n",
      "['Mercury', 'Venus']\n"
     ]
    }
   ],
   "source": [
    "planets = ['Mercury', 'Venus', 'Earth', 'Mars', 'Jupiter', 'Saturn', 'Neptune']\n",
    "\n",
    "planeta=input(\"Ingresa un nombre de un planeta (Ejemplo: Mars, mayuscula al principio del nombre): \")\n",
    "\n",
    "Indice=planets.index(planeta)\n",
    "\n",
    "print(\"El planeta que ingreso tiene el indice: \", Indice+1)\n",
    "\n",
    "\n",
    "print(\"Los planetas cercanos a: \" + planeta)\n",
    "print(planets[0:Indice])"
   ]
  },
  {
   "cell_type": "code",
   "execution_count": 10,
   "metadata": {},
   "outputs": [
    {
     "name": "stdout",
     "output_type": "stream",
     "text": [
      "El planeta que ingreso tiene el indice:  3\n",
      "Los planetas cercanos a: Earth\n",
      "['Mars', 'Jupiter', 'Saturn', 'Neptune']\n"
     ]
    }
   ],
   "source": [
    "planets = ['Mercury', 'Venus', 'Earth', 'Mars', 'Jupiter', 'Saturn', 'Neptune']\n",
    "\n",
    "planeta=input(\"Ingresa un nombre de un planeta (Ejemplo: Mars, mayuscula al principio del nombre): \")\n",
    "\n",
    "Indice=planets.index(planeta)\n",
    "\n",
    "print(\"El planeta que ingreso tiene el indice: \", Indice+1)\n",
    "\n",
    "\n",
    "print(\"Los planetas cercanos a: \" + planeta)\n",
    "print(planets[Indice + 1:])"
   ]
  }
 ],
 "metadata": {
  "interpreter": {
   "hash": "0cfa34a1942f3e9b488a5c5cbecab847df5890b1fa6e31caee2eb853b54fec85"
  },
  "kernelspec": {
   "display_name": "Python 3.10.2 64-bit",
   "language": "python",
   "name": "python3"
  },
  "language_info": {
   "codemirror_mode": {
    "name": "ipython",
    "version": 3
   },
   "file_extension": ".py",
   "mimetype": "text/x-python",
   "name": "python",
   "nbconvert_exporter": "python",
   "pygments_lexer": "ipython3",
   "version": "3.10.2"
  },
  "orig_nbformat": 4
 },
 "nbformat": 4,
 "nbformat_minor": 2
}
