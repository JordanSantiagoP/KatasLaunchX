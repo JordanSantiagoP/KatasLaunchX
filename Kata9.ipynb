{
 "cells": [
  {
   "cell_type": "markdown",
   "metadata": {},
   "source": [
    "EJERCICIO1\n"
   ]
  },
  {
   "cell_type": "code",
   "execution_count": 1,
   "metadata": {},
   "outputs": [
    {
     "name": "stdout",
     "output_type": "stream",
     "text": [
      "\n",
      "    Pomedio= 18.333333333333332\n",
      "    Tanque1= 20\n",
      "    Tanque2= 30\n",
      "    Tanque3= 5 \n"
     ]
    }
   ],
   "source": [
    "tanque1=0 \n",
    "tanque2=0\n",
    "tanque3=0\n",
    "\n",
    "def informe(tanque1, tanque2, tanque3):\n",
    "    promedio=(tanque1+tanque2+tanque3)/3\n",
    "    return f\"\"\"\n",
    "    Pomedio= {promedio}\n",
    "    Tanque1= {tanque1}\n",
    "    Tanque2= {tanque2}\n",
    "    Tanque3= {tanque3} \"\"\"\n",
    "\n",
    "print(informe(20,30,5))"
   ]
  },
  {
   "cell_type": "code",
   "execution_count": 4,
   "metadata": {},
   "outputs": [
    {
     "name": "stdout",
     "output_type": "stream",
     "text": [
      "\n",
      "    Pomedio= 18.333333333333332\n",
      "    Tanque1= 20\n",
      "    Tanque2= 30\n",
      "    Tanque3= 5 \n"
     ]
    }
   ],
   "source": [
    "tanque1=0 \n",
    "tanque2=0\n",
    "tanque3=0\n",
    "\n",
    "def promedio (values):\n",
    "    tanques=sum(values)\n",
    "    cantidadT=len(values)\n",
    "    promed=tanques/cantidadT\n",
    "    return promed\n",
    "\n",
    "def informe(tanque1, tanque2, tanque3):\n",
    "    return f\"\"\"\n",
    "    Pomedio= {promedio([tanque1, tanque2, tanque3])}\n",
    "    Tanque1= {tanque1}\n",
    "    Tanque2= {tanque2}\n",
    "    Tanque3= {tanque3} \"\"\"\n",
    "\n",
    "print(informe(20,30,5))"
   ]
  },
  {
   "cell_type": "markdown",
   "metadata": {},
   "source": [
    "EJERCICIO2"
   ]
  },
  {
   "cell_type": "code",
   "execution_count": 6,
   "metadata": {},
   "outputs": [
    {
     "name": "stdout",
     "output_type": "stream",
     "text": [
      "\n",
      "    Destino: Moon\n",
      "    Tiempo al destino: 65 minutos\n",
      "    Combustible izquierdo: 500000 galones\n",
      "    \n"
     ]
    }
   ],
   "source": [
    "def Informe(prelanzamiento, tiempoVuelo, destino, TanqueEx, TanqueIn):\n",
    "    return f\"\"\"\n",
    "    Destino: {destino}\n",
    "    Tiempo al destino: {prelanzamiento+tiempoVuelo} minutos\n",
    "    Combustible izquierdo: {TanqueEx+TanqueIn} galones\n",
    "    \"\"\"\n",
    "\n",
    "print(Informe(14, 51, \"Moon\", 200000, 300000))"
   ]
  },
  {
   "cell_type": "code",
   "execution_count": 7,
   "metadata": {},
   "outputs": [
    {
     "name": "stdout",
     "output_type": "stream",
     "text": [
      "\n",
      "    Destino: Moon\n",
      "    Tiempo al destino: 76\n",
      "    Combustible izquierdo: 500000\n",
      "    \n"
     ]
    }
   ],
   "source": [
    "def Informe(destino, *minutes, **fuel_reservoirs):\n",
    "    return f\"\"\"\n",
    "    Destino: {destino}\n",
    "    Tiempo al destino: {sum(minutes)}\n",
    "    Combustible izquierdo: {sum(fuel_reservoirs.values())}\n",
    "    \"\"\"\n",
    "\n",
    "print(Informe(\"Moon\", 10, 15, 51, main=300000, external=200000))"
   ]
  },
  {
   "cell_type": "code",
   "execution_count": 12,
   "metadata": {},
   "outputs": [
    {
     "name": "stdout",
     "output_type": "stream",
     "text": [
      "\n",
      "    Destino: Moon\n",
      "    Tiempo al destino: 76\n",
      "    Combustible izquierdo: 500000\n",
      "    El tanque main = 300000 galones\n",
      "El tanque external = 200000 galones\n",
      "\n"
     ]
    }
   ],
   "source": [
    "def Informe(destino, *minutes, **fuel_reservoirs):\n",
    "    principal_informe = f\"\"\"\n",
    "    Destino: {destino}\n",
    "    Tiempo al destino: {sum(minutes)}\n",
    "    Combustible izquierdo: {sum(fuel_reservoirs.values())}\n",
    "    \"\"\"\n",
    "    for tanque, galones in fuel_reservoirs.items():\n",
    "\n",
    "        principal_informe+=f\"El tanque {tanque} = {galones} galones\\n\"\n",
    "    return principal_informe\n",
    "\n",
    "print(Informe(\"Moon\", 10, 15, 51, main=300000, external=200000))"
   ]
  }
 ],
 "metadata": {
  "interpreter": {
   "hash": "0cfa34a1942f3e9b488a5c5cbecab847df5890b1fa6e31caee2eb853b54fec85"
  },
  "kernelspec": {
   "display_name": "Python 3.10.2 64-bit",
   "language": "python",
   "name": "python3"
  },
  "language_info": {
   "codemirror_mode": {
    "name": "ipython",
    "version": 3
   },
   "file_extension": ".py",
   "mimetype": "text/x-python",
   "name": "python",
   "nbconvert_exporter": "python",
   "pygments_lexer": "ipython3",
   "version": "3.10.2"
  },
  "orig_nbformat": 4
 },
 "nbformat": 4,
 "nbformat_minor": 2
}
